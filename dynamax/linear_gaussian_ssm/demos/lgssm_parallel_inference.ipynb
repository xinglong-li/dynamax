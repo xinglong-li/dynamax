{
 "cells": [
  {
   "cell_type": "code",
   "execution_count": null,
   "id": "VmddSCQsVn37",
   "metadata": {
    "colab": {
     "base_uri": "https://localhost:8080/"
    },
    "id": "VmddSCQsVn37",
    "outputId": "c9aefbe5-c83b-4446-d522-21d8b986e7f2"
   },
   "outputs": [
    {
     "name": "stdout",
     "output_type": "stream",
     "text": [
      "  Installing build dependencies ... \u001b[?25l\u001b[?25hdone\n",
      "  Getting requirements to build wheel ... \u001b[?25l\u001b[?25hdone\n",
      "    Preparing wheel metadata ... \u001b[?25l\u001b[?25hdone\n",
      "\u001b[K     |████████████████████████████████| 185 kB 7.8 MB/s \n",
      "\u001b[K     |████████████████████████████████| 115 kB 45.9 MB/s \n",
      "\u001b[K     |████████████████████████████████| 85 kB 3.1 MB/s \n",
      "\u001b[K     |████████████████████████████████| 145 kB 54.0 MB/s \n",
      "\u001b[K     |████████████████████████████████| 128 kB 51.7 MB/s \n",
      "\u001b[K     |████████████████████████████████| 237 kB 52.4 MB/s \n",
      "\u001b[K     |████████████████████████████████| 51 kB 6.9 MB/s \n",
      "\u001b[?25h  Building wheel for dynamax (PEP 517) ... \u001b[?25l\u001b[?25hdone\n"
     ]
    }
   ],
   "source": [
    "try:\n",
    "    import dynamax\n",
    "except:\n",
    "    %pip install -U -q git+https://github.com/probml/dynamax.git"
   ]
  },
  {
   "cell_type": "code",
   "execution_count": null,
   "id": "dc7de09a-aa24-4702-816f-4e1b21fcdaa3",
   "metadata": {
    "id": "dc7de09a-aa24-4702-816f-4e1b21fcdaa3"
   },
   "outputs": [],
   "source": [
    "import numpy as np\n",
    "import jax\n",
    "from jax import numpy as jnp\n",
    "from jax import scipy as jsc\n",
    "from jax import random as jr\n",
    "from jax import vmap, tree_map, config, block_until_ready\n",
    "from jax.lax import associative_scan\n",
    "from matplotlib import pyplot as plt"
   ]
  },
  {
   "cell_type": "markdown",
   "id": "zDGSCr7Oc9hk",
   "metadata": {
    "id": "zDGSCr7Oc9hk"
   },
   "source": [
    "# Parallel filtering and smoothing in a linear Gaussian state-space model"
   ]
  },
  {
   "cell_type": "markdown",
   "id": "YmYQat2xdEZl",
   "metadata": {
    "id": "YmYQat2xdEZl"
   },
   "source": [
    "This code borrows heavily from this [example notebook](https://github.com/EEA-sensors/sequential-parallelization-examples/blob/main/python/temporal-parallelization-bayes-smoothers/parallel_kalman_jax.ipynb) from [Adrien Correnflos](https://github.com/AdrienCorenflos). Some small changes have been made here and it has been updated to work with dynamax.\n",
    "\n",
    "The parallel inference functions implemented below are available in the dynamax library in `dynamax.linear_gaussian_ssm.parallel_inference`."
   ]
  },
  {
   "cell_type": "code",
   "execution_count": null,
   "id": "815775f5-a63a-4187-ad74-f74d22a29ed3",
   "metadata": {
    "id": "815775f5-a63a-4187-ad74-f74d22a29ed3"
   },
   "outputs": [],
   "source": [
    "from dynamax.linear_gaussian_ssm.inference import LGSSMParams, lgssm_filter, lgssm_smoother, lgssm_sample\n",
    "from dynamax.linear_gaussian_ssm.models import LinearGaussianSSM"
   ]
  },
  {
   "cell_type": "markdown",
   "id": "xLMBEd3Td_qI",
   "metadata": {
    "id": "xLMBEd3Td_qI"
   },
   "source": [
    "## Model\n",
    "The model is a simple tracking model (see Example 3.6 in *Bayesian Filtering and Smoothing* (S. Särkkä, 2013)."
   ]
  },
  {
   "cell_type": "code",
   "execution_count": null,
   "id": "6357a126-28b7-4e08-9814-9ff1f7a9ce7d",
   "metadata": {
    "id": "6357a126-28b7-4e08-9814-9ff1f7a9ce7d"
   },
   "outputs": [],
   "source": [
    "dt = 0.1\n",
    "F = jnp.eye(4) + dt * jnp.eye(4, k=2)\n",
    "Q = 1. * jnp.kron(jnp.array([[dt**3/3, dt**2/2],\n",
    "                      [dt**2/2, dt]]), \n",
    "                 jnp.eye(2))\n",
    "H = jnp.eye(2, 4)\n",
    "R = 0.5 ** 2 * jnp.eye(2)\n",
    "μ0 = jnp.array([0.,0.,1.,-1.])\n",
    "Σ0 = jnp.eye(4)"
   ]
  },
  {
   "cell_type": "code",
   "execution_count": null,
   "id": "25027aea-e80f-49a8-a271-142458fa03ae",
   "metadata": {
    "id": "25027aea-e80f-49a8-a271-142458fa03ae"
   },
   "outputs": [],
   "source": [
    "latent_dim = 4\n",
    "observation_dim = 2\n",
    "input_dim = 1\n",
    "\n",
    "lgssm_params = LGSSMParams(\n",
    "    initial_mean = μ0,\n",
    "    initial_covariance = Σ0,\n",
    "    dynamics_matrix = F,\n",
    "    dynamics_input_weights = jnp.zeros((latent_dim,input_dim)),\n",
    "    dynamics_bias = jnp.zeros(latent_dim),\n",
    "    dynamics_covariance = Q,\n",
    "    emission_matrix = H,\n",
    "    emission_input_weights = jnp.zeros((observation_dim, input_dim)),\n",
    "    emission_bias = jnp.zeros(observation_dim),\n",
    "    emission_covariance = R\n",
    ")"
   ]
  },
  {
   "cell_type": "code",
   "execution_count": null,
   "id": "f46ac96e-5068-4136-a3ba-b952d86d47b9",
   "metadata": {
    "id": "f46ac96e-5068-4136-a3ba-b952d86d47b9"
   },
   "outputs": [],
   "source": [
    "num_timesteps = 100\n",
    "key = jr.PRNGKey(0)\n",
    "inputs = jnp.zeros((num_timesteps,input_dim))\n",
    "\n",
    "key, subkey = jr.split(key)\n",
    "z,emissions = lgssm_sample(subkey,lgssm_params,num_timesteps, inputs)\n",
    "ssm_posterior = lgssm_smoother(lgssm_params, emissions, inputs)"
   ]
  },
  {
   "cell_type": "code",
   "execution_count": null,
   "id": "9d548207-2976-492c-b95a-88d5d08138db",
   "metadata": {
    "colab": {
     "base_uri": "https://localhost:8080/",
     "height": 265
    },
    "id": "9d548207-2976-492c-b95a-88d5d08138db",
    "outputId": "f79cf911-296f-43b2-f8c8-f091c4ea1ba8"
   },
   "outputs": [
    {
     "data": {
      "image/png": "[encoded data removed]",
      "text/plain": [
       "<Figure size 432x288 with 1 Axes>"
      ]
     },
     "metadata": {
      "needs_background": "light"
     },
     "output_type": "display_data"
    }
   ],
   "source": [
    "plt.plot(*emissions.T,'.');\n",
    "plt.plot(*ssm_posterior.filtered_means[:,:2].T, '--');\n",
    "plt.plot(*ssm_posterior.smoothed_means[:,:2].T);"
   ]
  },
  {
   "cell_type": "markdown",
   "id": "6c5f9126-e9c1-4384-91a1-50b72c1fa790",
   "metadata": {
    "id": "6c5f9126-e9c1-4384-91a1-50b72c1fa790"
   },
   "source": [
    "## Parallel Inference"
   ]
  },
  {
   "cell_type": "markdown",
   "id": "rXhPImwOMQnG",
   "metadata": {
    "id": "rXhPImwOMQnG"
   },
   "source": [
    "### Filtering"
   ]
  },
  {
   "cell_type": "code",
   "execution_count": null,
   "id": "55a391b9-f00b-49c5-b17b-c4ebb1735437",
   "metadata": {
    "id": "55a391b9-f00b-49c5-b17b-c4ebb1735437"
   },
   "outputs": [],
   "source": [
    "def first_filtering_element(params, y):\n",
    "    F = params.dynamics_matrix\n",
    "    H = params.emission_matrix\n",
    "    Q = params.dynamics_covariance\n",
    "    R = params.emission_covariance\n",
    "    \n",
    "    S = H @ Q @ H.T + R\n",
    "    CF, low = jsc.linalg.cho_factor(S)\n",
    "\n",
    "    m1 = F @ params.initial_mean\n",
    "    P1 = F @ params.initial_covariance @ F.T + Q\n",
    "    S1 = H @ P1 @ H.T + R\n",
    "    K1 = jsc.linalg.solve(S1, H @ P1, assume_a=\"pos\").T  \n",
    "\n",
    "    A = jnp.zeros_like(F)\n",
    "    b = m1 + K1 @ (y - H @ m1)\n",
    "    C = P1 - K1 @ S1 @ K1.T\n",
    "\n",
    "    eta = F.T @ H.T @ jsc.linalg.cho_solve((CF, low), y)\n",
    "    J = F.T @ H.T @ jsc.linalg.cho_solve((CF, low), H @ F)\n",
    "    return A, b, C, J, eta\n",
    "\n",
    "\n",
    "def generic_filtering_element(params, y):\n",
    "    F = params.dynamics_matrix\n",
    "    H = params.emission_matrix\n",
    "    Q = params.dynamics_covariance\n",
    "    R = params.emission_covariance\n",
    "    \n",
    "    S = H @ Q @ H.T + R\n",
    "    CF, low = jsc.linalg.cho_factor(S)  \n",
    "    K = jsc.linalg.cho_solve((CF, low), H @ Q).T  \n",
    "    A = F - K @ H @ F\n",
    "    b = K @ y\n",
    "    C = Q - K @ H @ Q\n",
    "\n",
    "    eta = F.T @ H.T @ jsc.linalg.cho_solve((CF, low), y)\n",
    "    J = F.T @ H.T @ jsc.linalg.cho_solve((CF, low), H @ F)\n",
    "    return A, b, C, J, eta"
   ]
  },
  {
   "cell_type": "code",
   "execution_count": null,
   "id": "c7de7080-7686-4791-b013-1a45af2bc066",
   "metadata": {
    "id": "c7de7080-7686-4791-b013-1a45af2bc066"
   },
   "outputs": [],
   "source": [
    "def make_associative_filtering_elements(params, emissions):\n",
    "    first_elems = first_filtering_element(params, emissions[0])\n",
    "    generic_elems = vmap(lambda ems: generic_filtering_element(params, ems))(emissions[1:])\n",
    "    comb_elems = tree_map(lambda f,g: jnp.concatenate((f[None,...], g)),first_elems, generic_elems)\n",
    "    return comb_elems"
   ]
  },
  {
   "cell_type": "code",
   "execution_count": null,
   "id": "fefe365e-0261-42cb-bd16-930881452904",
   "metadata": {
    "id": "fefe365e-0261-42cb-bd16-930881452904"
   },
   "outputs": [],
   "source": [
    "@vmap\n",
    "def filtering_operator(elem1, elem2):\n",
    "    A1, b1, C1, J1, eta1 = elem1\n",
    "    A2, b2, C2, J2, eta2 = elem2\n",
    "    dim = A1.shape[0]\n",
    "    I = jnp.eye(dim)  \n",
    "\n",
    "    I_C1J2 = I + C1 @ J2\n",
    "    temp = jsc.linalg.solve(I_C1J2.T, A2.T).T\n",
    "    A = temp @ A1\n",
    "    b = temp @ (b1 + C1 @ eta2) + b2\n",
    "    C = temp @ C1 @ A2.T + C2\n",
    "\n",
    "    I_J2C1 = I + J2 @ C1\n",
    "    temp = jsc.linalg.solve(I_J2C1.T, A1).T\n",
    "\n",
    "    eta = temp @ (eta2 - J2 @ b1) + eta1\n",
    "    J = temp @ J2 @ A1 + J1\n",
    "\n",
    "    return A, b, C, J, eta"
   ]
  },
  {
   "cell_type": "code",
   "execution_count": null,
   "id": "d692a7e2-45f3-4350-a3b7-45d33c2de5ab",
   "metadata": {
    "id": "d692a7e2-45f3-4350-a3b7-45d33c2de5ab"
   },
   "outputs": [],
   "source": [
    "def parallel_kalman_filter(params, emissions):\n",
    "    initial_elements = make_associative_filtering_elements(params, emissions)\n",
    "    final_elements = associative_scan(filtering_operator, initial_elements)\n",
    "    return final_elements[1], final_elements[2]"
   ]
  },
  {
   "cell_type": "code",
   "execution_count": null,
   "id": "c7bee192-36ca-4fe0-953c-b39a5868565c",
   "metadata": {
    "id": "c7bee192-36ca-4fe0-953c-b39a5868565c"
   },
   "outputs": [],
   "source": [
    "pfms, pfPs = parallel_kalman_filter(lgssm_params, emissions)"
   ]
  },
  {
   "cell_type": "code",
   "execution_count": null,
   "id": "a160e709-6f81-47f2-8404-94c2346ccd4b",
   "metadata": {
    "colab": {
     "base_uri": "https://localhost:8080/",
     "height": 374
    },
    "id": "a160e709-6f81-47f2-8404-94c2346ccd4b",
    "outputId": "b22bd04c-9995-4734-a30a-1a1581a157f9"
   },
   "outputs": [
    {
     "data": {
      "image/png": "[encoded data removed]",
      "text/plain": [
       "<Figure size 432x432 with 1 Axes>"
      ]
     },
     "metadata": {
      "needs_background": "light"
     },
     "output_type": "display_data"
    }
   ],
   "source": [
    "plt.figure(figsize=(6,6))\n",
    "plt.plot(*emissions.T,'.', label=\"observations\")\n",
    "plt.plot(*ssm_posterior.filtered_means[:,:2].T, color=\"C2\", label=\"serial filtering\")\n",
    "plt.plot(*pfms[:,:2].T, \"--\", color=\"C3\",label=\"parallel filtering\");\n",
    "plt.legend();"
   ]
  },
  {
   "cell_type": "code",
   "execution_count": null,
   "id": "702dcd7b-9229-4d00-8107-4be74eb7a018",
   "metadata": {
    "colab": {
     "base_uri": "https://localhost:8080/"
    },
    "id": "702dcd7b-9229-4d00-8107-4be74eb7a018",
    "outputId": "e05ccdc2-8f49-4b13-ce1a-54a1d96c3f8a"
   },
   "outputs": [
    {
     "data": {
      "text/plain": [
       "0.15887868"
      ]
     },
     "execution_count": 40,
     "metadata": {},
     "output_type": "execute_result"
    }
   ],
   "source": [
    "np.abs(ssm_posterior.filtered_means - pfms).max()"
   ]
  },
  {
   "cell_type": "markdown",
   "id": "Pp55tx2jMU_9",
   "metadata": {
    "id": "Pp55tx2jMU_9"
   },
   "source": [
    "### Smoothing"
   ]
  },
  {
   "cell_type": "code",
   "execution_count": null,
   "id": "9ccadedd-0de9-4f1d-9e76-0e403bc33670",
   "metadata": {
    "id": "9ccadedd-0de9-4f1d-9e76-0e403bc33670"
   },
   "outputs": [],
   "source": [
    "def last_smoothing_element(m, P):\n",
    "    return jnp.zeros_like(P), m, P\n",
    "\n",
    "def generic_smoothing_element(params, m, P):\n",
    "    F = params.dynamics_matrix\n",
    "    H = params.emission_matrix\n",
    "    Q = params.dynamics_covariance\n",
    "    R = params.emission_covariance\n",
    "    Pp = F @ P @ F.T + Q\n",
    "\n",
    "    E  = jsc.linalg.solve(Pp, F @ P, assume_a='pos').T\n",
    "    g  = m - E @ F @ m\n",
    "    L  = P - E @ Pp @ E.T\n",
    "    return E, g, L\n",
    "\n",
    "def make_associative_smoothing_elements(params, filtered_means, filtered_covariances):\n",
    "    last_elems = last_smoothing_element(filtered_means[-1], filtered_covariances[-1])\n",
    "    generic_elems = vmap(lambda m, P: generic_smoothing_element(params, m, P))(filtered_means[:-1], filtered_covariances[:-1])\n",
    "    combined_elems = tree_map(lambda g,l: jnp.append(g,l[None,:],axis=0), generic_elems, last_elems)\n",
    "    return combined_elems\n",
    "\n",
    "\n",
    "@vmap\n",
    "def smoothing_operator(elem1, elem2):\n",
    "    E1, g1, L1 = elem1\n",
    "    E2, g2, L2 = elem2\n",
    "\n",
    "    E = E2 @ E1\n",
    "    g = E2 @ g1 + g2\n",
    "    L = E2 @ L1 @ E2.T + L2\n",
    "\n",
    "    return E, g, L\n",
    "\n",
    "def parallel_kalman_smoother(params, emissions):\n",
    "    filtered_means, filtered_covariances = parallel_kalman_filter(params, emissions)\n",
    "    initial_elements = make_associative_smoothing_elements(params, filtered_means, filtered_covariances)\n",
    "    final_elements = associative_scan(smoothing_operator, initial_elements, reverse=True)\n",
    "    return final_elements[1], final_elements[2]"
   ]
  },
  {
   "cell_type": "code",
   "execution_count": null,
   "id": "86ad0108-9915-449d-934d-e51309072e79",
   "metadata": {
    "id": "86ad0108-9915-449d-934d-e51309072e79"
   },
   "outputs": [],
   "source": [
    "psms, psPs = parallel_kalman_smoother(lgssm_params, emissions)"
   ]
  },
  {
   "cell_type": "code",
   "execution_count": null,
   "id": "5ececd5c-7439-4f9e-9b56-5e99543f19cc",
   "metadata": {
    "colab": {
     "base_uri": "https://localhost:8080/",
     "height": 374
    },
    "id": "5ececd5c-7439-4f9e-9b56-5e99543f19cc",
    "outputId": "6748ee00-de9e-4041-d581-333d68653f9c"
   },
   "outputs": [
    {
     "data": {
      "image/png": "[encoded data removed]",
      "text/plain": [
       "<Figure size 432x432 with 1 Axes>"
      ]
     },
     "metadata": {
      "needs_background": "light"
     },
     "output_type": "display_data"
    }
   ],
   "source": [
    "plt.figure(figsize=(6,6))\n",
    "plt.plot(*emissions.T,'.', label=\"observations\")\n",
    "plt.plot(*ssm_posterior.smoothed_means[:,:2].T, color=\"C2\", label=\"serial smoothing\")\n",
    "plt.plot(*psms[:,:2].T, \"--\", color=\"C3\",label=\"parallel smoothing\")\n",
    "plt.legend();\n"
   ]
  },
  {
   "cell_type": "markdown",
   "id": "Ju0dlre3Bf9K",
   "metadata": {
    "id": "Ju0dlre3Bf9K"
   },
   "source": [
    "## Timing"
   ]
  },
  {
   "cell_type": "code",
   "execution_count": null,
   "id": "mHz92DIeJlGT",
   "metadata": {
    "id": "mHz92DIeJlGT"
   },
   "outputs": [],
   "source": [
    "import time"
   ]
  },
  {
   "cell_type": "code",
   "execution_count": null,
   "id": "pMkWU1emEMFG",
   "metadata": {
    "colab": {
     "base_uri": "https://localhost:8080/"
    },
    "id": "pMkWU1emEMFG",
    "outputId": "7f9f1b96-22b1-4666-e61e-d9e8b7df0c48"
   },
   "outputs": [
    {
     "name": "stdout",
     "output_type": "stream",
     "text": [
      "Num timesteps=100, \t time serial = 0.4385208288828532\n",
      "Num timesteps=100, \t time parallel = 0.2780752976735433\n",
      "Num timesteps=1000, \t time serial = 0.5768963495890299\n",
      "Num timesteps=1000, \t time parallel = 0.37906479835510254\n",
      "Num timesteps=10000, \t time serial = 1.8795080184936523\n",
      "Num timesteps=10000, \t time parallel = 0.5674033164978027\n",
      "Num timesteps=100000, \t time serial = 15.201645930608114\n",
      "Num timesteps=100000, \t time parallel = 0.6993365287780762\n",
      "Num timesteps=1000000, \t time serial = 148.4404614766439\n",
      "Num timesteps=1000000, \t time parallel = 0.9188536008199056\n"
     ]
    }
   ],
   "source": [
    "key = jr.PRNGKey(0)\n",
    "Ts = [100, 1_000, 10_000, 100_000]\n",
    "serial_filtering_durations = []\n",
    "parallel_filtering_durations = []\n",
    "num_repeats = 5\n",
    "compiled = False\n",
    "\n",
    "for T in Ts:\n",
    "    inputs = jnp.zeros((T,input_dim))\n",
    "    \n",
    "    key, subkey = jr.split(key)\n",
    "    z,emissions = lgssm_sample(subkey,lgssm_params,T, inputs)\n",
    "\n",
    "    if not compiled:\n",
    "        ssm_posterior = block_until_ready(lgssm_filter(lgssm_params, emissions, inputs))\n",
    "        pfilt_means, pfilt_covs = block_until_ready(parallel_kalman_filter(lgssm_params, emissions))\n",
    "    \n",
    "    start = time.time()\n",
    "    for _ in range(num_repeats):\n",
    "        ssm_posterior = block_until_ready(lgssm_filter(lgssm_params, emissions, inputs))\n",
    "    end = time.time()\n",
    "    mean_time = (end-start)/num_repeats\n",
    "    serial_filtering_durations.append(mean_time)\n",
    "    print(f\"Num timesteps={T}, \\t time serial = {mean_time}\")\n",
    "    \n",
    "    start = time.time()\n",
    "    for _ in range(num_repeats):\n",
    "        pfilt_means, pfilt_covs = block_until_ready(parallel_kalman_filter(lgssm_params, emissions))\n",
    "    end = time.time()\n",
    "    mean_time = (end-start)/num_repeats\n",
    "    parallel_filtering_durations.append(mean_time)\n",
    "    print(f\"Num timesteps={T}, \\t time parallel = {mean_time}\")"
   ]
  },
  {
   "cell_type": "code",
   "execution_count": null,
   "id": "xpKwVlDzE7T-",
   "metadata": {
    "colab": {
     "base_uri": "https://localhost:8080/",
     "height": 369
    },
    "id": "xpKwVlDzE7T-",
    "outputId": "f3fcd575-ef23-4de2-f886-02883a2b7c07"
   },
   "outputs": [
    {
     "data": {
      "image/png": "[encoded data removed]",
      "text/plain": [
       "<Figure size 360x360 with 1 Axes>"
      ]
     },
     "metadata": {
      "needs_background": "light"
     },
     "output_type": "display_data"
    }
   ],
   "source": [
    "plt.figure(figsize=(5, 5))\n",
    "plt.loglog(Ts, serial_filtering_durations, '-o', label='serial')\n",
    "plt.loglog(Ts, parallel_filtering_durations, '-o', label='parallel')\n",
    "plt.xticks(Ts)\n",
    "plt.xlabel(\"seq. length\")\n",
    "plt.ylabel(\"time per forward pass (s)\")\n",
    "plt.grid(True)\n",
    "plt.legend()\n",
    "plt.tight_layout()"
   ]
  },
  {
   "cell_type": "code",
   "execution_count": null,
   "id": "0mSknJxzLCbt",
   "metadata": {
    "colab": {
     "base_uri": "https://localhost:8080/"
    },
    "id": "0mSknJxzLCbt",
    "outputId": "0f4db370-d0b0-4d2f-bab3-bbe6d3128316"
   },
   "outputs": [
    {
     "name": "stdout",
     "output_type": "stream",
     "text": [
      "Num timesteps=100, \t time serial = 0.7041940212249755\n",
      "Num timesteps=100, \t time parallel = 0.36930127143859864\n",
      "Num timesteps=1000, \t time serial = 0.9897834300994873\n",
      "Num timesteps=1000, \t time parallel = 0.530796480178833\n",
      "Num timesteps=10000, \t time serial = 3.2751163959503176\n",
      "Num timesteps=10000, \t time parallel = 0.7730414390563964\n",
      "Num timesteps=100000, \t time serial = 26.506278562545777\n",
      "Num timesteps=100000, \t time parallel = 0.9454202651977539\n"
     ]
    }
   ],
   "source": [
    "key = jr.PRNGKey(0)\n",
    "Ts = [100, 1_000, 10_000, 100_000]\n",
    "serial_smoothing_durations = []\n",
    "parallel_smoothing_durations = []\n",
    "num_repeats = 5\n",
    "compiled = False\n",
    "\n",
    "for T in Ts:\n",
    "    inputs = jnp.zeros((T,input_dim))\n",
    "    \n",
    "    key, subkey = jr.split(key)\n",
    "    z,emissions = lgssm_sample(subkey,lgssm_params,T, inputs)\n",
    "\n",
    "    if not compiled:\n",
    "        ssm_posterior = block_until_ready(lgssm_smoother(lgssm_params, emissions, inputs))\n",
    "        pfilt_means, pfilt_covs = block_until_ready(parallel_kalman_smoother(lgssm_params, emissions))\n",
    "    \n",
    "    start = time.time()\n",
    "    for _ in range(num_repeats):\n",
    "        ssm_posterior = block_until_ready(lgssm_smoother(lgssm_params, emissions, inputs))\n",
    "    end = time.time()\n",
    "    mean_time = (end-start)/num_repeats\n",
    "    serial_smoothing_durations.append(mean_time)\n",
    "    print(f\"Num timesteps={T}, \\t time serial = {mean_time}\")\n",
    "    \n",
    "    start = time.time()\n",
    "    for _ in range(num_repeats):\n",
    "        pfilt_means, pfilt_covs = block_until_ready(parallel_kalman_smoother(lgssm_params, emissions))\n",
    "    end = time.time()\n",
    "    mean_time = (end-start)/num_repeats\n",
    "    parallel_smoothing_durations.append(mean_time)\n",
    "    print(f\"Num timesteps={T}, \\t time parallel = {mean_time}\")"
   ]
  },
  {
   "cell_type": "code",
   "execution_count": null,
   "id": "eCyil2PbNdEG",
   "metadata": {
    "colab": {
     "base_uri": "https://localhost:8080/",
     "height": 369
    },
    "id": "eCyil2PbNdEG",
    "outputId": "ec99476b-7bc4-48f3-86fa-7112417596de"
   },
   "outputs": [
    {
     "data": {
      "image/png": "[encoded data removed]",
      "text/plain": [
       "<Figure size 360x360 with 1 Axes>"
      ]
     },
     "metadata": {
      "needs_background": "light"
     },
     "output_type": "display_data"
    }
   ],
   "source": [
    "plt.figure(figsize=(5, 5))\n",
    "plt.loglog(Ts, serial_smoothing_durations, '-o', label='serial')\n",
    "plt.loglog(Ts, parallel_smoothing_durations, '-o', label='parallel')\n",
    "plt.xticks(Ts)\n",
    "plt.xlabel(\"seq. length\")\n",
    "plt.ylabel(\"time per forward pass (s)\")\n",
    "plt.grid(True)\n",
    "plt.legend()\n",
    "plt.tight_layout()"
   ]
  },
  {
   "cell_type": "code",
   "execution_count": null,
   "id": "IpBHMUtyS2-G",
   "metadata": {
    "id": "IpBHMUtyS2-G"
   },
   "outputs": [],
   "source": []
  }
 ],
 "metadata": {
  "accelerator": "GPU",
  "colab": {
   "collapsed_sections": [],
   "provenance": []
  },
  "kernelspec": {
   "display_name": "Python 3 (ipykernel)",
   "language": "python",
   "name": "python3"
  },
  "language_info": {
   "codemirror_mode": {
    "name": "ipython",
    "version": 3
   },
   "file_extension": ".py",
   "mimetype": "text/x-python",
   "name": "python",
   "nbconvert_exporter": "python",
   "pygments_lexer": "ipython3",
   "version": "3.10.4"
  }
 },
 "nbformat": 4,
 "nbformat_minor": 5
}
