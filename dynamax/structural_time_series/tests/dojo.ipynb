{
 "cells": [
  {
   "cell_type": "code",
   "execution_count": 1,
   "metadata": {},
   "outputs": [],
   "source": [
    "import os\n",
    "os.chdir('/home/xinglong/git_local/dynamax/')\n",
    "\n",
    "import matplotlib.pyplot as plt"
   ]
  },
  {
   "cell_type": "code",
   "execution_count": 2,
   "metadata": {},
   "outputs": [],
   "source": [
    "import jax.numpy as jnp\n",
    "import jax.random as jr\n",
    "from jax import lax\n",
    "\n",
    "from dynamax.structural_time_series.models.sts_model import StructuralTimeSeries as STS\n",
    "from dynamax.structural_time_series.models.sts_components import *\n",
    "from dynamax.parameters import ParameterProperties as Prop\n",
    "\n",
    "import tensorflow_probability as tfp\n",
    "from tensorflow_probability.substrates.jax.distributions import (\n",
    "    MultivariateNormalDiag as MVNDiag\n",
    ")\n"
   ]
  },
  {
   "cell_type": "code",
   "execution_count": 3,
   "metadata": {},
   "outputs": [],
   "source": [
    "time_steps=100\n",
    "key=jr.PRNGKey(4)\n",
    "\n",
    "keys = jr.split(key, 5)\n",
    "standard_mvn = MVNDiag(jnp.zeros(1), jnp.ones(1))\n",
    "\n",
    "# Generate parameters of the STS component\n",
    "level_scale = 5\n",
    "slope_scale = 0.5\n",
    "initial_level = standard_mvn.sample(seed=keys[0])\n",
    "initial_slope = standard_mvn.sample(seed=keys[1])\n",
    "\n",
    "obs_noise_scale = 20\n",
    "\n",
    "# Generate observed time series using the SSM representation.\n",
    "F = jnp.array([[1, 1],\n",
    "               [0, 1]])\n",
    "H = jnp.array([[1, 0]])\n",
    "Q = jnp.block([[level_scale, 0],\n",
    "                   [0, slope_scale]])\n",
    "R = obs_noise_scale\n",
    "\n",
    "def _step(current_state, key):\n",
    "    key1, key2 = jr.split(key)\n",
    "    current_obs = H @ current_state + R * standard_mvn.sample(seed=key1)\n",
    "    next_state = F @ current_state + Q @ MVNDiag(jnp.zeros(2), jnp.ones(2)).sample(seed=key2)\n",
    "    return next_state, current_obs\n",
    "\n",
    "initial_state = jnp.concatenate((initial_level, initial_slope))\n",
    "key_seq = jr.split(keys[2], time_steps)\n",
    "_, obs_time_series = lax.scan(_step, initial_state, key_seq)"
   ]
  },
  {
   "cell_type": "code",
   "execution_count": 4,
   "metadata": {},
   "outputs": [
    {
     "name": "stderr",
     "output_type": "stream",
     "text": [
      "2022-11-02 23:27:04.315471: W tensorflow/stream_executor/platform/default/dso_loader.cc:64] Could not load dynamic library 'libcudnn.so.8'; dlerror: libcudnn.so.8: cannot open shared object file: No such file or directory\n",
      "2022-11-02 23:27:04.315494: W tensorflow/core/common_runtime/gpu/gpu_device.cc:1850] Cannot dlopen some GPU libraries. Please make sure the missing libraries mentioned above are installed properly if you would like to use GPU. Follow the guide at https://www.tensorflow.org/install/gpu for how to download and setup the required libraries for your platform.\n",
      "Skipping registering GPU devices...\n"
     ]
    }
   ],
   "source": [
    "tfp_comp = tfp.sts.LocalLinearTrend(observed_time_series=obs_time_series)\n",
    "tfp_model = tfp.sts.Sum([tfp_comp], observed_time_series=obs_time_series)"
   ]
  },
  {
   "cell_type": "code",
   "execution_count": 5,
   "metadata": {},
   "outputs": [
    {
     "name": "stdout",
     "output_type": "stream",
     "text": [
      "WARNING:tensorflow:From /home/xinglong/.local/lib/python3.8/site-packages/tensorflow_probability/python/distributions/distribution.py:342: calling MultivariateNormalDiag.__init__ (from tensorflow_probability.python.distributions.mvn_diag) with scale_identity_multiplier is deprecated and will be removed after 2020-01-01.\n",
      "Instructions for updating:\n",
      "`scale_identity_multiplier` is deprecated; please combine it into `scale_diag` directly instead.\n"
     ]
    },
    {
     "name": "stderr",
     "output_type": "stream",
     "text": [
      "WARNING:tensorflow:From /home/xinglong/.local/lib/python3.8/site-packages/tensorflow_probability/python/distributions/distribution.py:342: calling MultivariateNormalDiag.__init__ (from tensorflow_probability.python.distributions.mvn_diag) with scale_identity_multiplier is deprecated and will be removed after 2020-01-01.\n",
      "Instructions for updating:\n",
      "`scale_identity_multiplier` is deprecated; please combine it into `scale_diag` directly instead.\n"
     ]
    },
    {
     "name": "stdout",
     "output_type": "stream",
     "text": [
      "WARNING:tensorflow:From /home/xinglong/.local/lib/python3.8/site-packages/tensorflow/python/ops/linalg/linear_operator_block_diag.py:234: LinearOperator.graph_parents (from tensorflow.python.ops.linalg.linear_operator) is deprecated and will be removed in a future version.\n",
      "Instructions for updating:\n",
      "Do not call `graph_parents`.\n"
     ]
    },
    {
     "name": "stderr",
     "output_type": "stream",
     "text": [
      "WARNING:tensorflow:From /home/xinglong/.local/lib/python3.8/site-packages/tensorflow/python/ops/linalg/linear_operator_block_diag.py:234: LinearOperator.graph_parents (from tensorflow.python.ops.linalg.linear_operator) is deprecated and will be removed in a future version.\n",
      "Instructions for updating:\n",
      "Do not call `graph_parents`.\n",
      "/home/xinglong/.local/lib/python3.8/site-packages/tensorflow_probability/python/mcmc/sample.py:339: UserWarning: Tracing all kernel results by default is deprecated. Set the `trace_fn` argument to None (the future default value) or an explicit callback that traces the values you are interested in.\n",
      "  warnings.warn('Tracing all kernel results by default is deprecated. Set '\n"
     ]
    }
   ],
   "source": [
    "tfp_samples, _ = tfp.sts.fit_with_hmc(\n",
    "        model=tfp_model, observed_time_series=obs_time_series, seed=keys[3])\n"
   ]
  },
  {
   "cell_type": "code",
   "execution_count": 17,
   "metadata": {},
   "outputs": [
    {
     "data": {
      "text/plain": [
       "Parameter(name='LocalLinearTrend/_slope_scale', prior=<tfp.distributions.LogNormal 'slope_scale_prior' batch_shape=[] event_shape=[] dtype=float32>, bijector=<tfp.bijectors.Chain 'chain_of_scale_of_softplus' batch_shape=[] forward_min_event_ndims=0 inverse_min_event_ndims=0 dtype_x=float32 dtype_y=float32 bijectors=[<tfp.bijectors.Scale 'scale' batch_shape=[] forward_min_event_ndims=0 inverse_min_event_ndims=0 dtype_x=float32 dtype_y=float32>, <tfp.bijectors.Softplus 'softplus' batch_shape=[] forward_min_event_ndims=0 inverse_min_event_ndims=0 dtype_x=float32 dtype_y=float32>]>)"
      ]
     },
     "execution_count": 17,
     "metadata": {},
     "output_type": "execute_result"
    }
   ],
   "source": [
    "tfp_model.parameters[2]"
   ]
  }
 ],
 "metadata": {
  "kernelspec": {
   "display_name": "Python 3.8.15 64-bit",
   "language": "python",
   "name": "python3"
  },
  "language_info": {
   "codemirror_mode": {
    "name": "ipython",
    "version": 3
   },
   "file_extension": ".py",
   "mimetype": "text/x-python",
   "name": "python",
   "nbconvert_exporter": "python",
   "pygments_lexer": "ipython3",
   "version": "3.8.15"
  },
  "orig_nbformat": 4,
  "vscode": {
   "interpreter": {
    "hash": "df0893f56f349688326838aaeea0de204df53a132722cbd565e54b24a8fec5f6"
   }
  }
 },
 "nbformat": 4,
 "nbformat_minor": 2
}
